{
 "cells": [
  {
   "cell_type": "code",
   "execution_count": 3,
   "metadata": {},
   "outputs": [],
   "source": [
    "import torch\n",
    "import torch.nn as nn\n",
    "import torch.optim\n",
    "import torch.nn.functional as F\n",
    "\n",
    "import os\n",
    "import numpy as np\n",
    "import matplotlib.pyplot as plt\n",
    "import math\n",
    "import matplotlib\n",
    "import math\n",
    "\n",
    "import dataset_loader\n",
    "\n",
    "%matplotlib inline"
   ]
  },
  {
   "cell_type": "code",
   "execution_count": 4,
   "metadata": {},
   "outputs": [
    {
     "name": "stdout",
     "output_type": "stream",
     "text": [
      "--2020-12-14 15:56:22--  https://github.com/mnielsen/neural-networks-and-deep-learning/raw/master/data/mnist.pkl.gz\n",
      "Resolving github.com (github.com)... 140.82.121.4\n",
      "Connecting to github.com (github.com)|140.82.121.4|:443... connected.\n",
      "HTTP request sent, awaiting response... 302 Found\n",
      "Location: https://raw.githubusercontent.com/mnielsen/neural-networks-and-deep-learning/master/data/mnist.pkl.gz [following]\n",
      "--2020-12-14 15:56:23--  https://raw.githubusercontent.com/mnielsen/neural-networks-and-deep-learning/master/data/mnist.pkl.gz\n",
      "Resolving raw.githubusercontent.com (raw.githubusercontent.com)... 151.101.84.133\n",
      "Connecting to raw.githubusercontent.com (raw.githubusercontent.com)|151.101.84.133|:443... connected.\n",
      "HTTP request sent, awaiting response... 200 OK\n",
      "Length: 17051982 (16M) [application/octet-stream]\n",
      "Saving to: ‘mnist.pkl.gz’\n",
      "\n",
      "mnist.pkl.gz        100%[===================>]  16.26M  4.01MB/s    in 4.4s    \n",
      "\n",
      "2020-12-14 15:56:28 (3.73 MB/s) - ‘mnist.pkl.gz’ saved [17051982/17051982]\n",
      "\n"
     ]
    }
   ],
   "source": [
    "# Download mnist dataset from another place than in lab 1 (that one does not work anymore)\n",
    "if(\"mnist.pkl.gz\" not in os.listdir(\".\")):\n",
    "    !wget \"https://github.com/mnielsen/neural-networks-and-deep-learning/raw/master/data/mnist.pkl.gz\"\n",
    "\n",
    "mnist_path = \"./mnist.pkl.gz\"\n",
    "\n",
    "(train_data_pixels, train_data_classes), (dev_data_pixels, dev_data_classes), _ = dataset_loader.load_mnist(mnist_path)"
   ]
  },
  {
   "cell_type": "code",
   "execution_count": 5,
   "metadata": {},
   "outputs": [],
   "source": [
    "train_data_pixels = torch.from_numpy(train_data_pixels).float()\n",
    "train_data_classes = torch.from_numpy(train_data_classes).long()\n",
    "\n",
    "dev_data_pixels = torch.from_numpy(dev_data_pixels).float()\n",
    "dev_data_classes = torch.from_numpy(dev_data_classes).long()"
   ]
  },
  {
   "cell_type": "code",
   "execution_count": 6,
   "metadata": {},
   "outputs": [
    {
     "name": "stdout",
     "output_type": "stream",
     "text": [
      "Shape of the pixel tensor: torch.Size([50000, 784])\n",
      "Shape of the class tensor: torch.Size([50000])\n"
     ]
    }
   ],
   "source": [
    "print(\"Shape of the pixel tensor:\", train_data_pixels.shape)\n",
    "print(\"Shape of the class tensor:\", train_data_classes.shape)"
   ]
  },
  {
   "cell_type": "code",
   "execution_count": 7,
   "metadata": {},
   "outputs": [
    {
     "data": {
      "image/png": "[encoded data removed]",
      "text/plain": [
       "<Figure size 432x288 with 1 Axes>"
      ]
     },
     "metadata": {
      "needs_background": "light"
     },
     "output_type": "display_data"
    },
    {
     "data": {
      "image/png": "[encoded data removed]",
      "text/plain": [
       "<Figure size 432x288 with 1 Axes>"
      ]
     },
     "metadata": {
      "needs_background": "light"
     },
     "output_type": "display_data"
    },
    {
     "data": {
      "image/png": "[encoded data removed]",
      "text/plain": [
       "<Figure size 432x288 with 1 Axes>"
      ]
     },
     "metadata": {
      "needs_background": "light"
     },
     "output_type": "display_data"
    },
    {
     "data": {
      "image/png": "[encoded data removed]",
      "text/plain": [
       "<Figure size 432x288 with 1 Axes>"
      ]
     },
     "metadata": {
      "needs_background": "light"
     },
     "output_type": "display_data"
    },
    {
     "data": {
      "image/png": "[encoded data removed]",
      "text/plain": [
       "<Figure size 432x288 with 1 Axes>"
      ]
     },
     "metadata": {
      "needs_background": "light"
     },
     "output_type": "display_data"
    }
   ],
   "source": [
    "def display_images(images):\n",
    "    images = images.detach().numpy()\n",
    "\n",
    "    for i in range(images.shape[0]):\n",
    "        plt.imshow(images[i].reshape(28,28), cmap='Greys')\n",
    "        plt.show()\n",
    "        \n",
    "display_images(train_data_pixels[:5])"
   ]
  },
  {
   "cell_type": "code",
   "execution_count": null,
   "metadata": {},
   "outputs": [],
   "source": [
    "from torch.distributions.multivariate_normal import MultivariateNormal\n",
    "\n",
    "class Encoder(nn.Module):\n",
    "    def __init__(self, n_components):\n",
    "        super(Encoder, self).__init__()\n",
    "        \n",
    "        self.conv1 = nn.Conv2d(1, 6, 5)\n",
    "        self.conv2 = nn.Conv2d(6, 16, 5)\n",
    "        self.fc1 = nn.Linear(16*20*20, 250)\n",
    "        self.mean_out = nn.Linear(250, n_components)\n",
    "        self.logvar_out = nn.Linear(250, n_components)\n",
    "        \n",
    "    def forward(self, x):\n",
    "        e1 = F.relu(self.conv1(x))\n",
    "        e2 = F.relu(self.conv2(e1))\n",
    "        e2 = e2.view(e2.size()[0], -1)\n",
    "        e3 = F.relu(self.fc1(e2))\n",
    "        mean = self.mean_out(e3)\n",
    "        logvar = self.logvar_out(e3)\n",
    "        return mean, logvar\n",
    "\n",
    "    def sample(self, z_mean, z_logvar):\n",
    "        eyes = torch.diag_embed(torch.ones_like(z_logvar))\n",
    "        epsilon = MultivariateNormal(torch.zeros_like(z_mean), eyes).sample().to(device)\n",
    "        return z_mean + epsilon*torch.exp(z_logvar)"
   ]
  },
  {
   "cell_type": "code",
   "execution_count": null,
   "metadata": {},
   "outputs": [],
   "source": [
    "def loss_kl(z_mean, z_logvar):\n",
    "    batch_size, n_components = z_mean.size()\n",
    "    inner = torch.exp(z_logvar) + z_mean**2 - z_logvar\n",
    "    return torch.sum(inner)/(2*batch_size) - n_components/2"
   ]
  },
  {
   "cell_type": "code",
   "execution_count": null,
   "metadata": {},
   "outputs": [],
   "source": [
    "class Decoder(nn.Module):\n",
    "    def __init__(self, n_components):\n",
    "        super(Decoder, self).__init__()\n",
    "        \n",
    "        self.fc1 = nn.Linear(n_components, 250)\n",
    "        self.fc2 = nn.Linear(250, 16*20*20)\n",
    "        self.convt1 = nn.ConvTranspose2d(16, 6, 5)\n",
    "        self.mean_out = nn.ConvTranspose2d(6, 1, 5)\n",
    "        self.logvar_out = nn.ConvTranspose2d(6, 1, 5)\n",
    "\n",
    "        self.register_buffer('min_logvar', -6 * torch.ones(1))\n",
    "        \n",
    "    def forward(self, z):        \n",
    "        d3 = F.relu(self.fc1(z))\n",
    "        d2 = F.relu(self.fc2(d3))\n",
    "    \n",
    "        d2 = d2.view(-1, 16, 20, 20)\n",
    "        d1 = F.relu(self.convt1(d2))\n",
    "\n",
    "        mean = self.mean_out(d1)\n",
    "        logvar = self.logvar_out(d1)\n",
    "        logvar = self.min_logvar + F.softplus(logvar - self.min_logvar)\n",
    "        return mean, logvar"
   ]
  },
  {
   "cell_type": "code",
   "execution_count": null,
   "metadata": {},
   "outputs": [],
   "source": []
  },
  {
   "cell_type": "code",
   "execution_count": null,
   "metadata": {},
   "outputs": [],
   "source": []
  },
  {
   "cell_type": "code",
   "execution_count": null,
   "metadata": {},
   "outputs": [],
   "source": []
  },
  {
   "cell_type": "code",
   "execution_count": null,
   "metadata": {},
   "outputs": [],
   "source": []
  },
  {
   "cell_type": "code",
   "execution_count": null,
   "metadata": {},
   "outputs": [],
   "source": []
  },
  {
   "cell_type": "code",
   "execution_count": null,
   "metadata": {},
   "outputs": [],
   "source": []
  },
  {
   "cell_type": "code",
   "execution_count": null,
   "metadata": {},
   "outputs": [],
   "source": [
    "from torch.distributions.multivariate_normal import MultivariateNormal\n",
    "    \n",
    "def sample_prior(n_features, n_samples=1):\n",
    "    return MultivariateNormal(torch.zeros(n_features), torch.eye(n_features)).sample((n_samples,))\n",
    "\n",
    "class GaussianPriorDecoder(nn.Module):\n",
    "    def __init__(self, input_dim, hidden_dim, output_dim):\n",
    "        super().__init__()\n",
    "        \n",
    "        self.fc1 = nn.Linear(input_dim, hidden_dim)\n",
    "        self.fc2 = nn.Linear(hidden_dim, output_dim)\n",
    "        self.input_dim = input_dim\n",
    "        \n",
    "       \n",
    "    def forward(self, batch):\n",
    "        hid = self.fc1(batch)\n",
    "        act = F.relu(hid)\n",
    "        \n",
    "        return self.fc2(act)\n",
    "    \n",
    "    # n_samples: number of \"image output distribution\" to compute\n",
    "    def sample_distributions(self, n_samples):\n",
    "        # first you must sample from the prior,\n",
    "        # then you must pass the data through this network, i.e. self(z)\n",
    "        \n",
    "        # shape of z: (n_samples, input_dim)\n",
    "        z = sample_prior(self.input_dim, n_samples)\n",
    "        return torch.sigmoid(self(z))\n",
    "        \n",
    "    \n",
    "    # sample images\n",
    "    def sample_images(self, n_samples, argmax=False):\n",
    "        # compute the output distributions for each image\n",
    "        # probs shae: (n_samples, output_dim)\n",
    "        probs = self.sample_distributions(n_samples)\n",
    "        \n",
    "        # then sample output pixels\n",
    "        # there are two modes:\n",
    "        # argmax=False: sample from the output distribution\n",
    "        # argmax=True: instead of sampling, return the most probable value for each random variable\n",
    "        # (check how the images are converted to binary images above!)\n",
    "   \n",
    "        if argmax:\n",
    "            return 1*(probs >= 0.5)\n",
    "        else:\n",
    "            return torch.bernoulli(probs)"
   ]
  },
  {
   "cell_type": "code",
   "execution_count": null,
   "metadata": {},
   "outputs": [],
   "source": [
    "dim_input = 28*28\n",
    "latent_dim = 2 # we use only 2 dimensions so we can plot them!\n",
    "hidden_dim = 400\n",
    "n_epoch = 20\n",
    "batch_dim = 256\n",
    "\n",
    "encoder = GaussianEncoder(dim_input, hidden_dim, latent_dim)\n",
    "decoder = GaussianPriorDecoder(latent_dim, hidden_dim, dim_input)\n",
    "\n",
    "# we must pass both network parameters to the optimizer\n",
    "# sometime its also useful to use two different optimizers,\n",
    "# for example if we want to use different learning rates.\n",
    "optimizer = torch.optim.Adam(list(encoder.parameters()) + list(decoder.parameters()))\n",
    "\n",
    "for epoch in range(n_epoch):\n",
    "    epoch_reconstruction = 0\n",
    "    epoch_kl = 0\n",
    "\n",
    "    decoder.train()\n",
    "    encoder.train()\n",
    "    for i in range(0, train_data_pixels.shape[0], batch_dim): \n",
    "        optimizer.zero_grad()\n",
    "        \n",
    "        batch = train_data_pixels[i:i+batch_dim]\n",
    "        \n",
    "        # compute parameters of the approximate posterior\n",
    "        mu, log_sigma_squared = encoder(batch)\n",
    "        \n",
    "        # for MC sampling of the reconstruction loss,\n",
    "        # we use one sample from the approximate posterior.\n",
    "        # you need to use the reparameterization trick for this!\n",
    "        # in order to sample from the the N(0, 1) distribution,\n",
    "        # you can use:\n",
    "        # torch.empty_like(mu).normal_(mean=0.,std=1.)\n",
    "        # (check the documentation if you don't understand this!)\n",
    "        \n",
    "\n",
    "        eyes = torch.diag_embed(torch.ones_like(log_sigma_squared))\n",
    "        epsilon = MultivariateNormal(torch.zeros_like(mu), eyes).sample()\n",
    "        z = mu + epsilon*torch.exp(log_sigma_squared)\n",
    "        \n",
    "        # reconstruction_logits: (batches, classes, output size)\n",
    "        # note that the output of the network is in R,\n",
    "        # to get Bernoulli parameters you must use the sigmoid.\n",
    "        # For the reconstruction loss, you can either use:\n",
    "        # - F.binary_cross_entropy_with_logits\n",
    "        # - F.entropy_with_logits\n",
    "        # Read the doc in order to understand the difference!\n",
    "        # Warning: use the reduction=\"none\" parameter\n",
    "        reconstruction_logits = decoder(z)\n",
    "        reconstruction_loss = F.binary_cross_entropy_with_logits(\n",
    "            reconstruction_logits,\n",
    "            batch,\n",
    "            reduction=\"none\"\n",
    "        )\n",
    "        \n",
    "        kl_div = KL_with_gaussian_prior(mu, log_sigma_squared)\n",
    "        \n",
    "        # loss shape: (batch dim,)\n",
    "        # do you understand why we sum along this dimension only?\n",
    "        # there is a minus sign before reconstruction because\n",
    "        # the loss formula is -log etc, but in the elbo its +log\n",
    "        elbo = -reconstruction_loss.sum(1) - kl_div\n",
    "        \n",
    "        epoch_reconstruction += -reconstruction_loss.sum().item()\n",
    "        epoch_kl += kl_div.sum().item()\n",
    "        \n",
    "        # we want to maximize the ELBO,\n",
    "        # but Pytorch does minimization,\n",
    "        # so we define our loss as -ELBO\n",
    "        # and we mean over instances in the dataset\n",
    "        loss = -elbo.mean()\n",
    "        loss.backward()\n",
    "        \n",
    "        # optimization trick :)\n",
    "        # gradient clipping, so we don't take too big updates\n",
    "        torch.nn.utils.clip_grad_norm_(encoder.parameters(), 5)\n",
    "        torch.nn.utils.clip_grad_norm_(decoder.parameters(), 5)\n",
    "        \n",
    "        optimizer.step()\n",
    "        \n",
    "    print(\n",
    "        epoch, \":\\t\",\n",
    "        epoch_reconstruction / train_data_pixels.shape[0],\n",
    "        \"\\t\",\n",
    "        epoch_kl / train_data_pixels.shape[0]\n",
    "    )"
   ]
  },
  {
   "cell_type": "code",
   "execution_count": null,
   "metadata": {},
   "outputs": [],
   "source": [
    "decoder.eval()\n",
    "\n",
    "with torch.no_grad():\n",
    "    # you can try true samples\n",
    "    # or useing argmax\n",
    "    samples = decoder.sample_distributions(5)\n",
    "    display_images(samples)"
   ]
  }
 ],
 "metadata": {
  "kernelspec": {
   "display_name": "Python 3",
   "language": "python",
   "name": "python3"
  },
  "language_info": {
   "codemirror_mode": {
    "name": "ipython",
    "version": 3
   },
   "file_extension": ".py",
   "mimetype": "text/x-python",
   "name": "python",
   "nbconvert_exporter": "python",
   "pygments_lexer": "ipython3",
   "version": "3.7.3"
  }
 },
 "nbformat": 4,
 "nbformat_minor": 4
}
